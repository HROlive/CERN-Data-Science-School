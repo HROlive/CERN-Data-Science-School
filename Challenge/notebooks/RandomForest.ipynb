{
 "cells": [
  {
   "cell_type": "code",
   "execution_count": 25,
   "metadata": {},
   "outputs": [],
   "source": [
    "import os\n",
    "import numpy as np\n",
    "import pandas as pd\n",
    "import sklearn.metrics as metrics\n",
    "from sklearn.ensemble import RandomForestClassifier, AdaBoostClassifier\n",
    "from sklearn.model_selection import train_test_split\n",
    "from sklearn import preprocessing\n",
    "from sklearn.model_selection import cross_val_score\n",
    "from sklearn.model_selection import KFold\n",
    "from sklearn.preprocessing import LabelEncoder\n",
    "from sklearn.pipeline import Pipeline\n",
    "from sklearn.metrics import classification_report"
   ]
  },
  {
   "cell_type": "code",
   "execution_count": 5,
   "metadata": {},
   "outputs": [],
   "source": [
    "list_filename=\"gspy-db-20180813_O1_filtered_t1126400691-1205493119_snr7.5_tr_gspy.csv\""
   ]
  },
  {
   "cell_type": "code",
   "execution_count": null,
   "metadata": {},
   "outputs": [],
   "source": [
    "data_dir = os.path.join(os.path.dirname(os.getcwd()),\"data\")"
   ]
  },
  {
   "cell_type": "code",
   "execution_count": 7,
   "metadata": {},
   "outputs": [
    {
     "data": {
      "text/html": [
       "<div>\n",
       "<style scoped>\n",
       "    .dataframe tbody tr th:only-of-type {\n",
       "        vertical-align: middle;\n",
       "    }\n",
       "\n",
       "    .dataframe tbody tr th {\n",
       "        vertical-align: top;\n",
       "    }\n",
       "\n",
       "    .dataframe thead th {\n",
       "        text-align: right;\n",
       "    }\n",
       "</style>\n",
       "<table border=\"1\" class=\"dataframe\">\n",
       "  <thead>\n",
       "    <tr style=\"text-align: right;\">\n",
       "      <th></th>\n",
       "      <th>Index</th>\n",
       "      <th>GPStime</th>\n",
       "      <th>peakFreq</th>\n",
       "      <th>snr</th>\n",
       "      <th>amplitude</th>\n",
       "      <th>centralFreq</th>\n",
       "      <th>duration</th>\n",
       "      <th>bandwidth</th>\n",
       "      <th>chisq</th>\n",
       "      <th>chisqDof</th>\n",
       "      <th>confidence</th>\n",
       "    </tr>\n",
       "  </thead>\n",
       "  <tbody>\n",
       "    <tr>\n",
       "      <th>count</th>\n",
       "      <td>81701.000000</td>\n",
       "      <td>8.170100e+04</td>\n",
       "      <td>81701.000000</td>\n",
       "      <td>81701.000000</td>\n",
       "      <td>8.170100e+04</td>\n",
       "      <td>81701.000000</td>\n",
       "      <td>81701.000000</td>\n",
       "      <td>81701.000000</td>\n",
       "      <td>81701.0</td>\n",
       "      <td>81701.0</td>\n",
       "      <td>81701.000000</td>\n",
       "    </tr>\n",
       "    <tr>\n",
       "      <th>mean</th>\n",
       "      <td>40850.000000</td>\n",
       "      <td>1.164020e+09</td>\n",
       "      <td>600.612925</td>\n",
       "      <td>25.861831</td>\n",
       "      <td>3.486329e-20</td>\n",
       "      <td>1936.617241</td>\n",
       "      <td>1.271748</td>\n",
       "      <td>3128.907362</td>\n",
       "      <td>0.0</td>\n",
       "      <td>0.0</td>\n",
       "      <td>0.999152</td>\n",
       "    </tr>\n",
       "    <tr>\n",
       "      <th>std</th>\n",
       "      <td>23585.191509</td>\n",
       "      <td>1.646547e+07</td>\n",
       "      <td>575.187632</td>\n",
       "      <td>169.987708</td>\n",
       "      <td>2.669169e-19</td>\n",
       "      <td>1360.470233</td>\n",
       "      <td>2.141393</td>\n",
       "      <td>2816.322956</td>\n",
       "      <td>0.0</td>\n",
       "      <td>0.0</td>\n",
       "      <td>0.001235</td>\n",
       "    </tr>\n",
       "    <tr>\n",
       "      <th>min</th>\n",
       "      <td>0.000000</td>\n",
       "      <td>1.126403e+09</td>\n",
       "      <td>10.059000</td>\n",
       "      <td>7.500000</td>\n",
       "      <td>2.260000e-23</td>\n",
       "      <td>8.319000</td>\n",
       "      <td>0.001000</td>\n",
       "      <td>0.495630</td>\n",
       "      <td>0.0</td>\n",
       "      <td>0.0</td>\n",
       "      <td>0.996000</td>\n",
       "    </tr>\n",
       "    <tr>\n",
       "      <th>25%</th>\n",
       "      <td>20425.000000</td>\n",
       "      <td>1.163774e+09</td>\n",
       "      <td>38.897000</td>\n",
       "      <td>8.212000</td>\n",
       "      <td>1.460000e-22</td>\n",
       "      <td>1015.524000</td>\n",
       "      <td>0.164000</td>\n",
       "      <td>281.646606</td>\n",
       "      <td>0.0</td>\n",
       "      <td>0.0</td>\n",
       "      <td>0.999000</td>\n",
       "    </tr>\n",
       "    <tr>\n",
       "      <th>50%</th>\n",
       "      <td>40850.000000</td>\n",
       "      <td>1.165438e+09</td>\n",
       "      <td>262.065000</td>\n",
       "      <td>9.363000</td>\n",
       "      <td>1.980000e-22</td>\n",
       "      <td>1526.092000</td>\n",
       "      <td>0.500000</td>\n",
       "      <td>2451.317383</td>\n",
       "      <td>0.0</td>\n",
       "      <td>0.0</td>\n",
       "      <td>1.000000</td>\n",
       "    </tr>\n",
       "    <tr>\n",
       "      <th>75%</th>\n",
       "      <td>61275.000000</td>\n",
       "      <td>1.168694e+09</td>\n",
       "      <td>1085.830000</td>\n",
       "      <td>12.598000</td>\n",
       "      <td>3.800000e-22</td>\n",
       "      <td>3234.508000</td>\n",
       "      <td>1.625000</td>\n",
       "      <td>5722.214400</td>\n",
       "      <td>0.0</td>\n",
       "      <td>0.0</td>\n",
       "      <td>1.000000</td>\n",
       "    </tr>\n",
       "    <tr>\n",
       "      <th>max</th>\n",
       "      <td>81700.000000</td>\n",
       "      <td>1.205493e+09</td>\n",
       "      <td>2046.281000</td>\n",
       "      <td>11499.370000</td>\n",
       "      <td>2.780000e-17</td>\n",
       "      <td>4727.692000</td>\n",
       "      <td>64.500000</td>\n",
       "      <td>7946.482910</td>\n",
       "      <td>0.0</td>\n",
       "      <td>0.0</td>\n",
       "      <td>1.000000</td>\n",
       "    </tr>\n",
       "  </tbody>\n",
       "</table>\n",
       "</div>"
      ],
      "text/plain": [
       "              Index       GPStime      peakFreq           snr     amplitude  \\\n",
       "count  81701.000000  8.170100e+04  81701.000000  81701.000000  8.170100e+04   \n",
       "mean   40850.000000  1.164020e+09    600.612925     25.861831  3.486329e-20   \n",
       "std    23585.191509  1.646547e+07    575.187632    169.987708  2.669169e-19   \n",
       "min        0.000000  1.126403e+09     10.059000      7.500000  2.260000e-23   \n",
       "25%    20425.000000  1.163774e+09     38.897000      8.212000  1.460000e-22   \n",
       "50%    40850.000000  1.165438e+09    262.065000      9.363000  1.980000e-22   \n",
       "75%    61275.000000  1.168694e+09   1085.830000     12.598000  3.800000e-22   \n",
       "max    81700.000000  1.205493e+09   2046.281000  11499.370000  2.780000e-17   \n",
       "\n",
       "        centralFreq      duration     bandwidth    chisq  chisqDof  \\\n",
       "count  81701.000000  81701.000000  81701.000000  81701.0   81701.0   \n",
       "mean    1936.617241      1.271748   3128.907362      0.0       0.0   \n",
       "std     1360.470233      2.141393   2816.322956      0.0       0.0   \n",
       "min        8.319000      0.001000      0.495630      0.0       0.0   \n",
       "25%     1015.524000      0.164000    281.646606      0.0       0.0   \n",
       "50%     1526.092000      0.500000   2451.317383      0.0       0.0   \n",
       "75%     3234.508000      1.625000   5722.214400      0.0       0.0   \n",
       "max     4727.692000     64.500000   7946.482910      0.0       0.0   \n",
       "\n",
       "         confidence  \n",
       "count  81701.000000  \n",
       "mean       0.999152  \n",
       "std        0.001235  \n",
       "min        0.996000  \n",
       "25%        0.999000  \n",
       "50%        1.000000  \n",
       "75%        1.000000  \n",
       "max        1.000000  "
      ]
     },
     "execution_count": 7,
     "metadata": {},
     "output_type": "execute_result"
    }
   ],
   "source": [
    "gl_df = pd.read_csv(os.path.join(data_dir,list_filename))\n",
    "gl_df.describe()"
   ]
  },
  {
   "cell_type": "code",
   "execution_count": 8,
   "metadata": {},
   "outputs": [
    {
     "data": {
      "text/plain": [
       "(81701, 15)"
      ]
     },
     "execution_count": 8,
     "metadata": {},
     "output_type": "execute_result"
    }
   ],
   "source": [
    "gl_df.shape"
   ]
  },
  {
   "cell_type": "code",
   "execution_count": 9,
   "metadata": {},
   "outputs": [
    {
     "name": "stdout",
     "output_type": "stream",
     "text": [
      "X : \n",
      "GPStime        81701\n",
      "peakFreq       81701\n",
      "snr            81701\n",
      "amplitude      81701\n",
      "centralFreq    81701\n",
      "duration       81701\n",
      "bandwidth      81701\n",
      "chisq          81701\n",
      "chisqDof       81701\n",
      "confidence     81701\n",
      "dtype: int64\n",
      "\n",
      "Y: \n",
      "81701\n",
      "\n",
      "Distinct classes : 22\n",
      "\n",
      "Y_num_labels :  81701\n"
     ]
    }
   ],
   "source": [
    "X = gl_df.get(['GPStime','peakFreq','snr','amplitude','centralFreq','duration','bandwidth','chisq','chisqDof','confidence'])\n",
    "Y = gl_df.get('label')\n",
    "\n",
    "print('X : ')\n",
    "print(X.count())\n",
    "print()\n",
    "print('Y: ')\n",
    "print(Y.count())\n",
    "\n",
    "Y_num = pd.factorize(Y)\n",
    "Y_num_labels = Y_num[0]\n",
    "Y_count_labels = Y_num[1].size\n",
    "\n",
    "print()\n",
    "print('Distinct classes :', Y_count_labels)\n",
    "print()\n",
    "print('Y_num_labels : ', Y_num_labels.size)"
   ]
  },
  {
   "cell_type": "code",
   "execution_count": 10,
   "metadata": {},
   "outputs": [],
   "source": [
    "seed = 7\n",
    "test_size = 0.33\n",
    "X_train, X_test, Y_train, Y_test = train_test_split(X, Y_num_labels, test_size=test_size, random_state=seed)"
   ]
  },
  {
   "cell_type": "code",
   "execution_count": 11,
   "metadata": {},
   "outputs": [
    {
     "name": "stdout",
     "output_type": "stream",
     "text": [
      "X_train : \n",
      "GPStime        54739\n",
      "peakFreq       54739\n",
      "snr            54739\n",
      "amplitude      54739\n",
      "centralFreq    54739\n",
      "duration       54739\n",
      "bandwidth      54739\n",
      "chisq          54739\n",
      "chisqDof       54739\n",
      "confidence     54739\n",
      "dtype: int64\n",
      "\n",
      "Y_train: \n",
      "54739\n",
      "\n",
      "X_test: \n",
      "GPStime        26962\n",
      "peakFreq       26962\n",
      "snr            26962\n",
      "amplitude      26962\n",
      "centralFreq    26962\n",
      "duration       26962\n",
      "bandwidth      26962\n",
      "chisq          26962\n",
      "chisqDof       26962\n",
      "confidence     26962\n",
      "dtype: int64\n",
      "\n",
      "Y_test: \n",
      "26962\n"
     ]
    }
   ],
   "source": [
    "print('X_train : ')\n",
    "print(X_train.count())\n",
    "print()\n",
    "print('Y_train: ')\n",
    "print(Y_train.size)\n",
    "print()\n",
    "print('X_test: ')\n",
    "print(X_test.count())\n",
    "print()\n",
    "print('Y_test: ')\n",
    "print(Y_test.size)"
   ]
  },
  {
   "cell_type": "code",
   "execution_count": 22,
   "metadata": {},
   "outputs": [],
   "source": [
    "rf = RandomForestClassifier(max_depth=5, n_estimators=10, max_features=1)\n",
    "rf.fit(X_train, Y_train)\n",
    "rf_preds = rf.predict(X_test)"
   ]
  },
  {
   "cell_type": "code",
   "execution_count": 23,
   "metadata": {},
   "outputs": [
    {
     "data": {
      "text/plain": [
       "0.19008233810548178"
      ]
     },
     "execution_count": 23,
     "metadata": {},
     "output_type": "execute_result"
    }
   ],
   "source": [
    "error_rate_rf = np.sum(rf_preds != Y_test) / Y_test.size\n",
    "error_rate_rf"
   ]
  },
  {
   "cell_type": "code",
   "execution_count": 24,
   "metadata": {},
   "outputs": [
    {
     "data": {
      "text/plain": [
       "array([0.12820822, 0.39050001, 0.07403522, 0.        , 0.11118318,\n",
       "       0.16849402, 0.07311858, 0.        , 0.        , 0.05446077])"
      ]
     },
     "execution_count": 24,
     "metadata": {},
     "output_type": "execute_result"
    }
   ],
   "source": [
    "rf.feature_importances_"
   ]
  },
  {
   "cell_type": "code",
   "execution_count": 27,
   "metadata": {},
   "outputs": [
    {
     "name": "stdout",
     "output_type": "stream",
     "text": [
      "              precision    recall  f1-score   support\n",
      "\n",
      "           0       0.50      0.00      0.01       231\n",
      "           1       0.81      0.31      0.45      1265\n",
      "           2       0.72      0.97      0.83      4285\n",
      "           3       1.00      0.01      0.01       555\n",
      "           4       0.73      0.77      0.75      1277\n",
      "           5       0.88      0.59      0.71      1277\n",
      "           6       0.87      0.70      0.77       945\n",
      "           7       0.90      1.00      0.95     10032\n",
      "           8       0.95      0.11      0.19       825\n",
      "           9       0.00      0.00      0.00        56\n",
      "          10       0.00      0.00      0.00       130\n",
      "          11       0.00      0.00      0.00        33\n",
      "          12       0.93      0.76      0.83       878\n",
      "          13       0.70      0.90      0.78      2730\n",
      "          14       0.71      0.82      0.76      1909\n",
      "          15       0.00      0.00      0.00       235\n",
      "          16       1.00      0.26      0.41       276\n",
      "          17       0.00      0.00      0.00        12\n",
      "          18       0.00      0.00      0.00         5\n",
      "          19       0.00      0.00      0.00         2\n",
      "          20       0.00      0.00      0.00         3\n",
      "          21       0.00      0.00      0.00         1\n",
      "\n",
      "   micro avg       0.81      0.81      0.81     26962\n",
      "   macro avg       0.49      0.33      0.34     26962\n",
      "weighted avg       0.81      0.81      0.77     26962\n",
      "\n"
     ]
    },
    {
     "name": "stderr",
     "output_type": "stream",
     "text": [
      "/usr/local/lib/python3.7/site-packages/sklearn/metrics/classification.py:1143: UndefinedMetricWarning: Precision and F-score are ill-defined and being set to 0.0 in labels with no predicted samples.\n",
      "  'precision', 'predicted', average, warn_for)\n"
     ]
    }
   ],
   "source": [
    "print(classification_report(Y_test, rf_preds))"
   ]
  },
  {
   "cell_type": "code",
   "execution_count": null,
   "metadata": {},
   "outputs": [],
   "source": []
  }
 ],
 "metadata": {
  "kernelspec": {
   "display_name": "Python 3",
   "language": "python",
   "name": "python3"
  },
  "language_info": {
   "codemirror_mode": {
    "name": "ipython",
    "version": 3
   },
   "file_extension": ".py",
   "mimetype": "text/x-python",
   "name": "python",
   "nbconvert_exporter": "python",
   "pygments_lexer": "ipython3",
   "version": "3.7.2"
  }
 },
 "nbformat": 4,
 "nbformat_minor": 2
}
