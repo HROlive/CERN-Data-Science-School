{
 "cells": [
  {
   "cell_type": "code",
   "execution_count": 1,
   "metadata": {},
   "outputs": [
    {
     "name": "stderr",
     "output_type": "stream",
     "text": [
      "Using TensorFlow backend.\n"
     ]
    }
   ],
   "source": [
    "import os\n",
    "import numpy as np\n",
    "import pandas as pd\n",
    "import xgboost as xgb\n",
    "import sklearn.metrics as metrics\n",
    "from sklearn.ensemble import RandomForestClassifier, AdaBoostClassifier\n",
    "from sklearn.model_selection import train_test_split\n",
    "from sklearn import preprocessing\n",
    "from keras.models import Sequential\n",
    "from keras.layers import Dense\n",
    "from keras.wrappers.scikit_learn import KerasClassifier\n",
    "from keras.utils import np_utils\n",
    "from keras import optimizers\n",
    "from sklearn.model_selection import cross_val_score\n",
    "from sklearn.model_selection import KFold\n",
    "from sklearn.preprocessing import LabelEncoder\n",
    "from sklearn.pipeline import Pipeline\n",
    "from sklearn.metrics import classification_report"
   ]
  },
  {
   "cell_type": "code",
   "execution_count": 2,
   "metadata": {},
   "outputs": [],
   "source": [
    "list_filename=\"gspy-db-20180813_O1_filtered_t1126400691-1205493119_snr7.5_tr_gspy.csv\""
   ]
  },
  {
   "cell_type": "code",
   "execution_count": 3,
   "metadata": {},
   "outputs": [
    {
     "data": {
      "text/plain": [
       "'/notebooks/data'"
      ]
     },
     "execution_count": 3,
     "metadata": {},
     "output_type": "execute_result"
    }
   ],
   "source": [
    "data_dir = os.path.join(os.path.dirname(os.getcwd()),\"data\")\n",
    "data_dir"
   ]
  },
  {
   "cell_type": "code",
   "execution_count": 4,
   "metadata": {},
   "outputs": [
    {
     "data": {
      "text/html": [
       "<div>\n",
       "<style scoped>\n",
       "    .dataframe tbody tr th:only-of-type {\n",
       "        vertical-align: middle;\n",
       "    }\n",
       "\n",
       "    .dataframe tbody tr th {\n",
       "        vertical-align: top;\n",
       "    }\n",
       "\n",
       "    .dataframe thead th {\n",
       "        text-align: right;\n",
       "    }\n",
       "</style>\n",
       "<table border=\"1\" class=\"dataframe\">\n",
       "  <thead>\n",
       "    <tr style=\"text-align: right;\">\n",
       "      <th></th>\n",
       "      <th>GPStime</th>\n",
       "      <th>peakFreq</th>\n",
       "      <th>snr</th>\n",
       "      <th>centralFreq</th>\n",
       "      <th>duration</th>\n",
       "      <th>bandwidth</th>\n",
       "    </tr>\n",
       "  </thead>\n",
       "  <tbody>\n",
       "    <tr>\n",
       "      <th>count</th>\n",
       "      <td>6.667000e+03</td>\n",
       "      <td>6667.000000</td>\n",
       "      <td>6667.000000</td>\n",
       "      <td>6667.000000</td>\n",
       "      <td>6667.000000</td>\n",
       "      <td>6667.000000</td>\n",
       "    </tr>\n",
       "    <tr>\n",
       "      <th>mean</th>\n",
       "      <td>1.131870e+09</td>\n",
       "      <td>204.124335</td>\n",
       "      <td>192.144943</td>\n",
       "      <td>1529.353582</td>\n",
       "      <td>1.779605</td>\n",
       "      <td>2941.086955</td>\n",
       "    </tr>\n",
       "    <tr>\n",
       "      <th>std</th>\n",
       "      <td>3.165652e+06</td>\n",
       "      <td>374.454670</td>\n",
       "      <td>1589.944713</td>\n",
       "      <td>1320.377343</td>\n",
       "      <td>2.672461</td>\n",
       "      <td>2664.103210</td>\n",
       "    </tr>\n",
       "    <tr>\n",
       "      <th>min</th>\n",
       "      <td>1.126403e+09</td>\n",
       "      <td>10.072000</td>\n",
       "      <td>7.501000</td>\n",
       "      <td>9.780000</td>\n",
       "      <td>0.007000</td>\n",
       "      <td>1.259180</td>\n",
       "    </tr>\n",
       "    <tr>\n",
       "      <th>25%</th>\n",
       "      <td>1.128905e+09</td>\n",
       "      <td>34.175000</td>\n",
       "      <td>10.337000</td>\n",
       "      <td>255.412000</td>\n",
       "      <td>0.227000</td>\n",
       "      <td>423.261902</td>\n",
       "    </tr>\n",
       "    <tr>\n",
       "      <th>50%</th>\n",
       "      <td>1.132168e+09</td>\n",
       "      <td>111.128000</td>\n",
       "      <td>15.407000</td>\n",
       "      <td>1228.915000</td>\n",
       "      <td>0.766000</td>\n",
       "      <td>2320.672363</td>\n",
       "    </tr>\n",
       "    <tr>\n",
       "      <th>75%</th>\n",
       "      <td>1.134571e+09</td>\n",
       "      <td>183.495000</td>\n",
       "      <td>36.997500</td>\n",
       "      <td>2630.882000</td>\n",
       "      <td>2.144500</td>\n",
       "      <td>5228.188477</td>\n",
       "    </tr>\n",
       "    <tr>\n",
       "      <th>max</th>\n",
       "      <td>1.137250e+09</td>\n",
       "      <td>2047.106000</td>\n",
       "      <td>81178.727000</td>\n",
       "      <td>4615.132000</td>\n",
       "      <td>42.156000</td>\n",
       "      <td>7946.482910</td>\n",
       "    </tr>\n",
       "  </tbody>\n",
       "</table>\n",
       "</div>"
      ],
      "text/plain": [
       "            GPStime     peakFreq           snr  centralFreq     duration  \\\n",
       "count  6.667000e+03  6667.000000   6667.000000  6667.000000  6667.000000   \n",
       "mean   1.131870e+09   204.124335    192.144943  1529.353582     1.779605   \n",
       "std    3.165652e+06   374.454670   1589.944713  1320.377343     2.672461   \n",
       "min    1.126403e+09    10.072000      7.501000     9.780000     0.007000   \n",
       "25%    1.128905e+09    34.175000     10.337000   255.412000     0.227000   \n",
       "50%    1.132168e+09   111.128000     15.407000  1228.915000     0.766000   \n",
       "75%    1.134571e+09   183.495000     36.997500  2630.882000     2.144500   \n",
       "max    1.137250e+09  2047.106000  81178.727000  4615.132000    42.156000   \n",
       "\n",
       "         bandwidth  \n",
       "count  6667.000000  \n",
       "mean   2941.086955  \n",
       "std    2664.103210  \n",
       "min       1.259180  \n",
       "25%     423.261902  \n",
       "50%    2320.672363  \n",
       "75%    5228.188477  \n",
       "max    7946.482910  "
      ]
     },
     "execution_count": 4,
     "metadata": {},
     "output_type": "execute_result"
    }
   ],
   "source": [
    "gl_df = pd.read_csv(os.path.join(data_dir,list_filename))\n",
    "gl_df.describe()"
   ]
  },
  {
   "cell_type": "code",
   "execution_count": 5,
   "metadata": {},
   "outputs": [
    {
     "data": {
      "text/plain": [
       "(6667, 9)"
      ]
     },
     "execution_count": 5,
     "metadata": {},
     "output_type": "execute_result"
    }
   ],
   "source": [
    "gl_df.shape"
   ]
  },
  {
   "cell_type": "code",
   "execution_count": 8,
   "metadata": {},
   "outputs": [
    {
     "data": {
      "text/html": [
       "<div>\n",
       "<style scoped>\n",
       "    .dataframe tbody tr th:only-of-type {\n",
       "        vertical-align: middle;\n",
       "    }\n",
       "\n",
       "    .dataframe tbody tr th {\n",
       "        vertical-align: top;\n",
       "    }\n",
       "\n",
       "    .dataframe thead th {\n",
       "        text-align: right;\n",
       "    }\n",
       "</style>\n",
       "<table border=\"1\" class=\"dataframe\">\n",
       "  <thead>\n",
       "    <tr style=\"text-align: right;\">\n",
       "      <th></th>\n",
       "      <th>GPStime</th>\n",
       "      <th>peakFreq</th>\n",
       "      <th>snr</th>\n",
       "      <th>centralFreq</th>\n",
       "      <th>duration</th>\n",
       "      <th>bandwidth</th>\n",
       "      <th>id</th>\n",
       "      <th>ifo</th>\n",
       "      <th>label</th>\n",
       "    </tr>\n",
       "  </thead>\n",
       "  <tbody>\n",
       "    <tr>\n",
       "      <th>6662</th>\n",
       "      <td>1.129802e+09</td>\n",
       "      <td>2025.310</td>\n",
       "      <td>27.166</td>\n",
       "      <td>1838.466</td>\n",
       "      <td>0.971</td>\n",
       "      <td>3612.932861</td>\n",
       "      <td>otpK5QYIAh</td>\n",
       "      <td>H1</td>\n",
       "      <td>Extremely_Loud</td>\n",
       "    </tr>\n",
       "    <tr>\n",
       "      <th>6663</th>\n",
       "      <td>1.130646e+09</td>\n",
       "      <td>10.416</td>\n",
       "      <td>21.426</td>\n",
       "      <td>3876.353</td>\n",
       "      <td>4.750</td>\n",
       "      <td>7742.791016</td>\n",
       "      <td>9iEHyEEJZx</td>\n",
       "      <td>H1</td>\n",
       "      <td>Low_Frequency_Lines</td>\n",
       "    </tr>\n",
       "    <tr>\n",
       "      <th>6664</th>\n",
       "      <td>1.127385e+09</td>\n",
       "      <td>48.344</td>\n",
       "      <td>7.698</td>\n",
       "      <td>776.262</td>\n",
       "      <td>0.577</td>\n",
       "      <td>1457.913940</td>\n",
       "      <td>OonOZHaR0U</td>\n",
       "      <td>H1</td>\n",
       "      <td>None_of_the_Above</td>\n",
       "    </tr>\n",
       "    <tr>\n",
       "      <th>6665</th>\n",
       "      <td>1.132625e+09</td>\n",
       "      <td>27.900</td>\n",
       "      <td>27.530</td>\n",
       "      <td>3881.117</td>\n",
       "      <td>2.841</td>\n",
       "      <td>7733.262695</td>\n",
       "      <td>ijzVn9vaOe</td>\n",
       "      <td>L1</td>\n",
       "      <td>No_Glitch</td>\n",
       "    </tr>\n",
       "    <tr>\n",
       "      <th>6666</th>\n",
       "      <td>1.131374e+09</td>\n",
       "      <td>18.986</td>\n",
       "      <td>17.409</td>\n",
       "      <td>2960.423</td>\n",
       "      <td>3.875</td>\n",
       "      <td>5903.526855</td>\n",
       "      <td>8MiALG6Akm</td>\n",
       "      <td>H1</td>\n",
       "      <td>Light_Modulation</td>\n",
       "    </tr>\n",
       "  </tbody>\n",
       "</table>\n",
       "</div>"
      ],
      "text/plain": [
       "           GPStime  peakFreq     snr  centralFreq  duration    bandwidth  \\\n",
       "6662  1.129802e+09  2025.310  27.166     1838.466     0.971  3612.932861   \n",
       "6663  1.130646e+09    10.416  21.426     3876.353     4.750  7742.791016   \n",
       "6664  1.127385e+09    48.344   7.698      776.262     0.577  1457.913940   \n",
       "6665  1.132625e+09    27.900  27.530     3881.117     2.841  7733.262695   \n",
       "6666  1.131374e+09    18.986  17.409     2960.423     3.875  5903.526855   \n",
       "\n",
       "              id ifo                label  \n",
       "6662  otpK5QYIAh  H1       Extremely_Loud  \n",
       "6663  9iEHyEEJZx  H1  Low_Frequency_Lines  \n",
       "6664  OonOZHaR0U  H1    None_of_the_Above  \n",
       "6665  ijzVn9vaOe  L1            No_Glitch  \n",
       "6666  8MiALG6Akm  H1     Light_Modulation  "
      ]
     },
     "execution_count": 8,
     "metadata": {},
     "output_type": "execute_result"
    }
   ],
   "source": [
    "gl_df.tail()"
   ]
  },
  {
   "cell_type": "code",
   "execution_count": 9,
   "metadata": {},
   "outputs": [
    {
     "name": "stdout",
     "output_type": "stream",
     "text": [
      "X : \n",
      "GPStime        6667\n",
      "peakFreq       6667\n",
      "snr            6667\n",
      "centralFreq    6667\n",
      "duration       6667\n",
      "bandwidth      6667\n",
      "id             6667\n",
      "ifo            6667\n",
      "dtype: int64\n",
      "\n",
      "Y: \n",
      "6667\n",
      "\n",
      "Distinct classes : 22\n",
      "\n",
      "Y_num_labels :  6667\n"
     ]
    }
   ],
   "source": [
    "X = gl_df.get(['GPStime','peakFreq','snr','centralFreq','duration','bandwidth','id','ifo'])\n",
    "Y = gl_df.get('label')\n",
    "\n",
    "print('X : ')\n",
    "print(X.count())\n",
    "print()\n",
    "print('Y: ')\n",
    "print(Y.count())\n",
    "\n",
    "Y_num = pd.factorize(Y)\n",
    "Y_num_labels = Y_num[0]\n",
    "Y_count_labels = Y_num[1].size\n",
    "\n",
    "print()\n",
    "print('Distinct classes :', Y_count_labels)\n",
    "print()\n",
    "print('Y_num_labels : ', Y_num_labels.size)"
   ]
  },
  {
   "cell_type": "code",
   "execution_count": 19,
   "metadata": {},
   "outputs": [
    {
     "data": {
      "text/plain": [
       "array(['H1', 'L1'], dtype=object)"
      ]
     },
     "execution_count": 19,
     "metadata": {},
     "output_type": "execute_result"
    }
   ],
   "source": [
    "gl_df['ifo'].unique()"
   ]
  },
  {
   "cell_type": "code",
   "execution_count": 10,
   "metadata": {},
   "outputs": [],
   "source": [
    "seed = 7\n",
    "test_size = 0.33\n",
    "X_train, X_test, Y_train, Y_test = train_test_split(X, Y_num_labels, test_size=test_size, random_state=seed)"
   ]
  },
  {
   "cell_type": "code",
   "execution_count": 11,
   "metadata": {},
   "outputs": [
    {
     "name": "stdout",
     "output_type": "stream",
     "text": [
      "X_train : \n",
      "GPStime        4466\n",
      "peakFreq       4466\n",
      "snr            4466\n",
      "centralFreq    4466\n",
      "duration       4466\n",
      "bandwidth      4466\n",
      "id             4466\n",
      "ifo            4466\n",
      "dtype: int64\n",
      "\n",
      "Y_train: \n",
      "4466\n",
      "\n",
      "X_test: \n",
      "GPStime        2201\n",
      "peakFreq       2201\n",
      "snr            2201\n",
      "centralFreq    2201\n",
      "duration       2201\n",
      "bandwidth      2201\n",
      "id             2201\n",
      "ifo            2201\n",
      "dtype: int64\n",
      "\n",
      "Y_test: \n",
      "2201\n"
     ]
    }
   ],
   "source": [
    "print('X_train : ')\n",
    "print(X_train.count())\n",
    "print()\n",
    "print('Y_train: ')\n",
    "print(Y_train.size)\n",
    "print()\n",
    "print('X_test: ')\n",
    "print(X_test.count())\n",
    "print()\n",
    "print('Y_test: ')\n",
    "print(Y_test.size)"
   ]
  },
  {
   "cell_type": "code",
   "execution_count": null,
   "metadata": {},
   "outputs": [],
   "source": [
    "training = xgb.DMatrix(X_train, label=Y_train)\n",
    "test = xgb.DMatrix(X_test, label=Y_test)\n",
    "\n",
    "num_round = 2\n",
    "param = {'max_depth': 2, \n",
    "         'eta': 1, \n",
    "         'silent':1, \n",
    "         'objective':'multi:softmax',\n",
    "         'num_class' : Y_count_labels}\n",
    "bst = xgb.train(param, training, num_round)\n",
    "preds = bst.predict(test)"
   ]
  },
  {
   "cell_type": "code",
   "execution_count": 131,
   "metadata": {},
   "outputs": [
    {
     "data": {
      "text/plain": [
       "0.17587716044803797"
      ]
     },
     "execution_count": 131,
     "metadata": {},
     "output_type": "execute_result"
    }
   ],
   "source": [
    "error_rate = np.sum(preds != Y_test) / Y_test.size\n",
    "error_rate"
   ]
  },
  {
   "cell_type": "code",
   "execution_count": 542,
   "metadata": {},
   "outputs": [
    {
     "name": "stdout",
     "output_type": "stream",
     "text": [
      "              precision    recall  f1-score   support\n",
      "\n",
      "           0       0.82      0.79      0.81       231\n",
      "           1       0.69      0.65      0.67      1265\n",
      "           2       0.92      0.78      0.85      4285\n",
      "           3       0.40      0.37      0.38       555\n",
      "           4       0.81      0.46      0.59      1277\n",
      "           5       0.61      0.84      0.71      1277\n",
      "           6       0.86      0.61      0.71       945\n",
      "           7       0.99      1.00      0.99     10032\n",
      "           8       0.75      0.66      0.70       825\n",
      "           9       0.91      0.88      0.89        56\n",
      "          10       0.63      0.25      0.35       130\n",
      "          11       0.33      0.18      0.24        33\n",
      "          12       0.89      0.85      0.87       878\n",
      "          13       0.82      0.85      0.83      2730\n",
      "          14       0.77      0.70      0.73      1909\n",
      "          15       0.06      0.34      0.10       235\n",
      "          16       0.78      0.92      0.84       276\n",
      "          17       0.21      0.42      0.28        12\n",
      "          18       0.00      0.00      0.00         5\n",
      "          19       0.00      0.00      0.00         2\n",
      "          20       0.00      0.00      0.00         3\n",
      "          21       0.00      0.00      0.00         1\n",
      "\n",
      "   micro avg       0.82      0.82      0.82     26962\n",
      "   macro avg       0.56      0.52      0.52     26962\n",
      "weighted avg       0.86      0.82      0.84     26962\n",
      "\n"
     ]
    },
    {
     "name": "stderr",
     "output_type": "stream",
     "text": [
      "/usr/local/lib/python3.7/site-packages/sklearn/metrics/classification.py:1143: UndefinedMetricWarning: Precision and F-score are ill-defined and being set to 0.0 in labels with no predicted samples.\n",
      "  'precision', 'predicted', average, warn_for)\n"
     ]
    }
   ],
   "source": [
    "print(classification_report(Y_test, preds))"
   ]
  },
  {
   "cell_type": "code",
   "execution_count": null,
   "metadata": {},
   "outputs": [],
   "source": []
  }
 ],
 "metadata": {
  "kernelspec": {
   "display_name": "Python 3",
   "language": "python",
   "name": "python3"
  },
  "language_info": {
   "codemirror_mode": {
    "name": "ipython",
    "version": 3
   },
   "file_extension": ".py",
   "mimetype": "text/x-python",
   "name": "python",
   "nbconvert_exporter": "python",
   "pygments_lexer": "ipython3",
   "version": "3.7.2"
  }
 },
 "nbformat": 4,
 "nbformat_minor": 2
}
