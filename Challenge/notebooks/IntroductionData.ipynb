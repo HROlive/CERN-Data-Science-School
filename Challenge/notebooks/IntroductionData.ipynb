{
 "cells": [
  {
   "cell_type": "code",
   "execution_count": 1,
   "metadata": {},
   "outputs": [],
   "source": [
    "import os\n",
    "import numpy as np\n",
    "import pandas as pd\n",
    "import matplotlib.pyplot as plt\n",
    "import h5py"
   ]
  },
  {
   "cell_type": "markdown",
   "metadata": {},
   "source": [
    "# Introduction\n",
    "\n",
    "The following notebook contains introduction into the data we are going to use for the challenge.\n",
    "\n",
    "The data used for the challenge contains glitches (transient noise events) mimicking real astrophysical signal and influencing the data quality. \n",
    "\n",
    "The data has been split into two parts:\n",
    "\n",
    "1. `gspy*csv` - this file contains metadata describing each glitch like GPS time, its frequency etc.\n",
    "\n",
    "2. `hdf5` - this directory contains 6667 files; each of them stores time-series data of the glitch\n",
    "\n",
    "Each time series file is named according to the following schema:\n",
    "\n",
    "`InterferometerName_GlitchId_GlitchGPS.GlitchGPS_miliseconds.hdf5`\n",
    "\n",
    "Example:\n",
    "\n",
    "`L1_ZzK9qapmuh_1127563548.0_7.hdf5`\n",
    "\n",
    "Let's start from having a look at the metadata."
   ]
  },
  {
   "cell_type": "code",
   "execution_count": null,
   "metadata": {},
   "outputs": [],
   "source": [
    "data_dir = os.path.join(os.path.dirname(os.getcwd()),\"data\")"
   ]
  },
  {
   "cell_type": "code",
   "execution_count": 3,
   "metadata": {},
   "outputs": [],
   "source": [
    "metadata_filename = \"gspy-db-20180813_O1_filtered_t1126400691-1205493119_snr7.5_tr_gspy.csv\"\n",
    "\n",
    "metadata_df = pd.read_csv(os.path.join(data_dir,metadata_filename))"
   ]
  },
  {
   "cell_type": "code",
   "execution_count": 4,
   "metadata": {},
   "outputs": [
    {
     "data": {
      "text/html": [
       "<div>\n",
       "<style scoped>\n",
       "    .dataframe tbody tr th:only-of-type {\n",
       "        vertical-align: middle;\n",
       "    }\n",
       "\n",
       "    .dataframe tbody tr th {\n",
       "        vertical-align: top;\n",
       "    }\n",
       "\n",
       "    .dataframe thead th {\n",
       "        text-align: right;\n",
       "    }\n",
       "</style>\n",
       "<table border=\"1\" class=\"dataframe\">\n",
       "  <thead>\n",
       "    <tr style=\"text-align: right;\">\n",
       "      <th></th>\n",
       "      <th>GPStime</th>\n",
       "      <th>peakFreq</th>\n",
       "      <th>snr</th>\n",
       "      <th>centralFreq</th>\n",
       "      <th>duration</th>\n",
       "      <th>bandwidth</th>\n",
       "      <th>id</th>\n",
       "      <th>ifo</th>\n",
       "      <th>label</th>\n",
       "    </tr>\n",
       "  </thead>\n",
       "  <tbody>\n",
       "    <tr>\n",
       "      <th>0</th>\n",
       "      <td>1.134828e+09</td>\n",
       "      <td>32.246</td>\n",
       "      <td>40.137</td>\n",
       "      <td>1601.119</td>\n",
       "      <td>7.250</td>\n",
       "      <td>3183.373047</td>\n",
       "      <td>LYD73IJEbP</td>\n",
       "      <td>H1</td>\n",
       "      <td>Scattered_Light</td>\n",
       "    </tr>\n",
       "    <tr>\n",
       "      <th>1</th>\n",
       "      <td>1.134164e+09</td>\n",
       "      <td>29.897</td>\n",
       "      <td>38.256</td>\n",
       "      <td>2965.068</td>\n",
       "      <td>2.500</td>\n",
       "      <td>5894.235352</td>\n",
       "      <td>kQOi8X6807</td>\n",
       "      <td>H1</td>\n",
       "      <td>Scattered_Light</td>\n",
       "    </tr>\n",
       "    <tr>\n",
       "      <th>2</th>\n",
       "      <td>1.134478e+09</td>\n",
       "      <td>29.636</td>\n",
       "      <td>32.589</td>\n",
       "      <td>41.479</td>\n",
       "      <td>2.313</td>\n",
       "      <td>47.056068</td>\n",
       "      <td>wypbhS6TAa</td>\n",
       "      <td>H1</td>\n",
       "      <td>Scattered_Light</td>\n",
       "    </tr>\n",
       "    <tr>\n",
       "      <th>3</th>\n",
       "      <td>1.134478e+09</td>\n",
       "      <td>31.943</td>\n",
       "      <td>29.462</td>\n",
       "      <td>2532.243</td>\n",
       "      <td>3.000</td>\n",
       "      <td>5035.515137</td>\n",
       "      <td>aKFWKfLE8l</td>\n",
       "      <td>H1</td>\n",
       "      <td>Scattered_Light</td>\n",
       "    </tr>\n",
       "    <tr>\n",
       "      <th>4</th>\n",
       "      <td>1.137056e+09</td>\n",
       "      <td>32.552</td>\n",
       "      <td>28.537</td>\n",
       "      <td>1167.148</td>\n",
       "      <td>4.750</td>\n",
       "      <td>2324.383057</td>\n",
       "      <td>yWSM6mnbBM</td>\n",
       "      <td>H1</td>\n",
       "      <td>Scattered_Light</td>\n",
       "    </tr>\n",
       "  </tbody>\n",
       "</table>\n",
       "</div>"
      ],
      "text/plain": [
       "        GPStime  peakFreq     snr  centralFreq  duration    bandwidth  \\\n",
       "0  1.134828e+09    32.246  40.137     1601.119     7.250  3183.373047   \n",
       "1  1.134164e+09    29.897  38.256     2965.068     2.500  5894.235352   \n",
       "2  1.134478e+09    29.636  32.589       41.479     2.313    47.056068   \n",
       "3  1.134478e+09    31.943  29.462     2532.243     3.000  5035.515137   \n",
       "4  1.137056e+09    32.552  28.537     1167.148     4.750  2324.383057   \n",
       "\n",
       "           id ifo            label  \n",
       "0  LYD73IJEbP  H1  Scattered_Light  \n",
       "1  kQOi8X6807  H1  Scattered_Light  \n",
       "2  wypbhS6TAa  H1  Scattered_Light  \n",
       "3  aKFWKfLE8l  H1  Scattered_Light  \n",
       "4  yWSM6mnbBM  H1  Scattered_Light  "
      ]
     },
     "execution_count": 4,
     "metadata": {},
     "output_type": "execute_result"
    }
   ],
   "source": [
    "metadata_df.head()"
   ]
  },
  {
   "cell_type": "markdown",
   "metadata": {},
   "source": [
    "As you can see above, each glitch is described by the set of 9 parameters:\n",
    "\n",
    "1. GPStime - GPS time of the first peak\n",
    "\n",
    "2. peakFreq - frequency of the strongest peak of time series signal\n",
    "\n",
    "3. snr - Signal to Noise Ration of the glitch\n",
    "\n",
    "4. centralFreq - central frequency of the signal\n",
    "\n",
    "5. duration - duration of the glitch in the time series data\n",
    "\n",
    "6. bandwidth - bandwidth of the signal\n",
    "\n",
    "7. id - id of the glitch; this parameter is used to find a particular file with time-series in the `hdf5` directory\n",
    "\n",
    "8. ifo - name of the interferometer; in the challenge we use H1 and L1 (Hanford and Livingstone Interferometers)\n",
    "\n",
    "9. label - type of the glitch\n",
    "\n",
    "The useful informations (physical) are stored only in the field 2-6.\n",
    "\n",
    "Let's now check what types of glitches we have in our data."
   ]
  },
  {
   "cell_type": "code",
   "execution_count": 5,
   "metadata": {},
   "outputs": [
    {
     "data": {
      "text/plain": [
       "array(['Scattered_Light', 'Repeating_Blips', 'Violin_Mode', 'Power_Line',\n",
       "       'Whistle', 'Scratchy', 'Helix', 'Light_Modulation',\n",
       "       'Wandering_Line', 'Low_Frequency_Burst', 'Koi_Fish',\n",
       "       'Low_Frequency_Lines', 'Blip', '1400Ripples', 'Chirp',\n",
       "       'Extremely_Loud', 'None_of_the_Above', 'Paired_Doves', 'Tomte',\n",
       "       'Air_Compressor', 'No_Glitch', '1080Lines'], dtype=object)"
      ]
     },
     "execution_count": 5,
     "metadata": {},
     "output_type": "execute_result"
    }
   ],
   "source": [
    "metadata_df[\"label\"].unique()"
   ]
  },
  {
   "cell_type": "code",
   "execution_count": 6,
   "metadata": {},
   "outputs": [
    {
     "data": {
      "text/plain": [
       "label\n",
       "1080Lines                 4\n",
       "1400Ripples              83\n",
       "Air_Compressor           57\n",
       "Blip                   1763\n",
       "Chirp                    60\n",
       "Extremely_Loud          448\n",
       "Helix                   270\n",
       "Koi_Fish                709\n",
       "Light_Modulation        400\n",
       "Low_Frequency_Burst     527\n",
       "Low_Frequency_Lines     494\n",
       "No_Glitch                41\n",
       "None_of_the_Above       151\n",
       "Paired_Doves             26\n",
       "Power_Line              450\n",
       "Repeating_Blips          91\n",
       "Scattered_Light         427\n",
       "Scratchy                269\n",
       "Tomte                    93\n",
       "Violin_Mode             137\n",
       "Wandering_Line           21\n",
       "Whistle                 146\n",
       "Name: id, dtype: int64"
      ]
     },
     "execution_count": 6,
     "metadata": {},
     "output_type": "execute_result"
    }
   ],
   "source": [
    "metadata_df.groupby(\"label\")[\"id\"].nunique()"
   ]
  },
  {
   "cell_type": "markdown",
   "metadata": {},
   "source": [
    "In total we have 22 classes or rather 21 glitch types and the noise `No_Glitch`. As er can see the data is not balanced."
   ]
  },
  {
   "cell_type": "markdown",
   "metadata": {},
   "source": [
    "# Visualization\n",
    "\n",
    "Knowing what kind of data we have in our dataset, let's now try to plot it. For this we need to use `id` field from metadata to find particular hdf5 file.\n",
    "\n",
    "Let's try to plot `Blip` as the most common in the dataset."
   ]
  },
  {
   "cell_type": "code",
   "execution_count": 7,
   "metadata": {},
   "outputs": [],
   "source": [
    "blip_df = metadata_df.loc[metadata_df[\"label\"]==\"Blip\"]"
   ]
  },
  {
   "cell_type": "code",
   "execution_count": 8,
   "metadata": {},
   "outputs": [
    {
     "data": {
      "text/html": [
       "<div>\n",
       "<style scoped>\n",
       "    .dataframe tbody tr th:only-of-type {\n",
       "        vertical-align: middle;\n",
       "    }\n",
       "\n",
       "    .dataframe tbody tr th {\n",
       "        vertical-align: top;\n",
       "    }\n",
       "\n",
       "    .dataframe thead th {\n",
       "        text-align: right;\n",
       "    }\n",
       "</style>\n",
       "<table border=\"1\" class=\"dataframe\">\n",
       "  <thead>\n",
       "    <tr style=\"text-align: right;\">\n",
       "      <th></th>\n",
       "      <th>GPStime</th>\n",
       "      <th>peakFreq</th>\n",
       "      <th>snr</th>\n",
       "      <th>centralFreq</th>\n",
       "      <th>duration</th>\n",
       "      <th>bandwidth</th>\n",
       "      <th>id</th>\n",
       "      <th>ifo</th>\n",
       "      <th>label</th>\n",
       "    </tr>\n",
       "  </thead>\n",
       "  <tbody>\n",
       "    <tr>\n",
       "      <th>1071</th>\n",
       "      <td>1.136353e+09</td>\n",
       "      <td>170.654</td>\n",
       "      <td>25.765</td>\n",
       "      <td>452.496</td>\n",
       "      <td>0.313</td>\n",
       "      <td>800.075928</td>\n",
       "      <td>m44eQDjFmi</td>\n",
       "      <td>H1</td>\n",
       "      <td>Blip</td>\n",
       "    </tr>\n",
       "    <tr>\n",
       "      <th>1143</th>\n",
       "      <td>1.128036e+09</td>\n",
       "      <td>99.067</td>\n",
       "      <td>10.888</td>\n",
       "      <td>131.310</td>\n",
       "      <td>0.156</td>\n",
       "      <td>144.076462</td>\n",
       "      <td>E5aPQop6HO</td>\n",
       "      <td>H1</td>\n",
       "      <td>Blip</td>\n",
       "    </tr>\n",
       "    <tr>\n",
       "      <th>1178</th>\n",
       "      <td>1.136399e+09</td>\n",
       "      <td>137.711</td>\n",
       "      <td>12.734</td>\n",
       "      <td>2396.786</td>\n",
       "      <td>0.826</td>\n",
       "      <td>4688.654785</td>\n",
       "      <td>6zEEDplpiy</td>\n",
       "      <td>L1</td>\n",
       "      <td>Blip</td>\n",
       "    </tr>\n",
       "    <tr>\n",
       "      <th>1185</th>\n",
       "      <td>1.128869e+09</td>\n",
       "      <td>121.663</td>\n",
       "      <td>16.776</td>\n",
       "      <td>217.960</td>\n",
       "      <td>0.188</td>\n",
       "      <td>317.377319</td>\n",
       "      <td>vV1Rk05tUQ</td>\n",
       "      <td>H1</td>\n",
       "      <td>Blip</td>\n",
       "    </tr>\n",
       "    <tr>\n",
       "      <th>1231</th>\n",
       "      <td>1.128502e+09</td>\n",
       "      <td>149.414</td>\n",
       "      <td>12.544</td>\n",
       "      <td>189.742</td>\n",
       "      <td>0.109</td>\n",
       "      <td>233.902252</td>\n",
       "      <td>E7JXjEBeSy</td>\n",
       "      <td>L1</td>\n",
       "      <td>Blip</td>\n",
       "    </tr>\n",
       "  </tbody>\n",
       "</table>\n",
       "</div>"
      ],
      "text/plain": [
       "           GPStime  peakFreq     snr  centralFreq  duration    bandwidth  \\\n",
       "1071  1.136353e+09   170.654  25.765      452.496     0.313   800.075928   \n",
       "1143  1.128036e+09    99.067  10.888      131.310     0.156   144.076462   \n",
       "1178  1.136399e+09   137.711  12.734     2396.786     0.826  4688.654785   \n",
       "1185  1.128869e+09   121.663  16.776      217.960     0.188   317.377319   \n",
       "1231  1.128502e+09   149.414  12.544      189.742     0.109   233.902252   \n",
       "\n",
       "              id ifo label  \n",
       "1071  m44eQDjFmi  H1  Blip  \n",
       "1143  E5aPQop6HO  H1  Blip  \n",
       "1178  6zEEDplpiy  L1  Blip  \n",
       "1185  vV1Rk05tUQ  H1  Blip  \n",
       "1231  E7JXjEBeSy  L1  Blip  "
      ]
     },
     "execution_count": 8,
     "metadata": {},
     "output_type": "execute_result"
    }
   ],
   "source": [
    "blip_df.head()"
   ]
  },
  {
   "cell_type": "code",
   "execution_count": 9,
   "metadata": {},
   "outputs": [
    {
     "name": "stdout",
     "output_type": "stream",
     "text": [
      "GPStime        1.13635e+09\n",
      "peakFreq           170.654\n",
      "snr                 25.765\n",
      "centralFreq        452.496\n",
      "duration             0.313\n",
      "bandwidth          800.076\n",
      "id              m44eQDjFmi\n",
      "ifo                     H1\n",
      "label                 Blip\n",
      "Name: 1071, dtype: object\n"
     ]
    }
   ],
   "source": [
    "glitch_metadata = blip_df.iloc[0]\n",
    "print(glitch_metadata)"
   ]
  },
  {
   "cell_type": "markdown",
   "metadata": {},
   "source": [
    "GPStime in the metadata and the name of hdf5 are different so we can't use it to create filename. Instead let's try to use only `id` and search for the file in the directory."
   ]
  },
  {
   "cell_type": "code",
   "execution_count": 10,
   "metadata": {},
   "outputs": [],
   "source": [
    "glitch_id = glitch_metadata[\"id\"]"
   ]
  },
  {
   "cell_type": "code",
   "execution_count": null,
   "metadata": {},
   "outputs": [],
   "source": [
    "data_dir_hdf5 = os.path.join(os.path.dirname(os.getcwd()),\"data\") + \"/hdf5\""
   ]
  },
  {
   "cell_type": "code",
   "execution_count": 12,
   "metadata": {},
   "outputs": [],
   "source": [
    "for file in os.listdir(data_dir_hdf5):\n",
    "    if glitch_id in file:\n",
    "        glitch_filename = file"
   ]
  },
  {
   "cell_type": "code",
   "execution_count": 13,
   "metadata": {},
   "outputs": [],
   "source": [
    "h5=h5py.File(os.path.join(data_dir_hdf5, glitch_filename), 'r')"
   ]
  },
  {
   "cell_type": "markdown",
   "metadata": {},
   "source": [
    "Important info! If the hdf is opened elsewhere, you will get an error saying \"Resource temporarily unavailable\".\n",
    "\n",
    "If you want to use it here, you need to close it elsewhere.\n",
    "\n",
    "The content of the file is the following:\n",
    "\n",
    "-  Strain\n",
    "    -  Strain:\n",
    "        -  value\n",
    "        -  attributes:\n",
    "            1. GPSstart\n",
    "            2. GPSend\n",
    "            3. Sample_Rate\n",
    "            4. Ifo"
   ]
  },
  {
   "cell_type": "code",
   "execution_count": 14,
   "metadata": {},
   "outputs": [
    {
     "name": "stdout",
     "output_type": "stream",
     "text": [
      "GPSstart 1136353323.8\n",
      "GPSend 1136353327.8\n",
      "Sample_Rate 4096.0\n",
      "Ifo b'H1'\n"
     ]
    }
   ],
   "source": [
    "GPSstart = h5[\"Strain\"][\"Strain\"].attrs[\"GPSstart\"]\n",
    "GPSend = h5[\"Strain\"][\"Strain\"].attrs[\"GPSend\"]\n",
    "Sample_Rate = h5[\"Strain\"][\"Strain\"].attrs[\"Sample_Rate\"]\n",
    "Ifo = h5[\"Strain\"][\"Strain\"].attrs[\"Ifo\"]\n",
    "print ('GPSstart',GPSstart)\n",
    "print ('GPSend',GPSend)\n",
    "print ('Sample_Rate',Sample_Rate)\n",
    "print ('Ifo',Ifo)"
   ]
  },
  {
   "cell_type": "markdown",
   "metadata": {},
   "source": [
    "Now, let's plot the time-series"
   ]
  },
  {
   "cell_type": "code",
   "execution_count": 15,
   "metadata": {},
   "outputs": [],
   "source": [
    "strain = h5[\"Strain\"][\"Strain\"].value\n",
    "ts = 1./Sample_Rate\n",
    "half = (GPSend-GPSstart)/2.\n",
    "time = np.arange(-half,half,ts)"
   ]
  },
  {
   "cell_type": "code",
   "execution_count": 16,
   "metadata": {},
   "outputs": [
    {
     "data": {
      "text/plain": [
       "Text(0, 0.5, 'Strain')"
      ]
     },
     "execution_count": 16,
     "metadata": {},
     "output_type": "execute_result"
    },
    {
     "data": {
      "image/png": "[encoded data removed]",
      "text/plain": [
       "<Figure size 432x288 with 1 Axes>"
      ]
     },
     "metadata": {
      "needs_background": "light"
     },
     "output_type": "display_data"
    }
   ],
   "source": [
    "plt.plot(time, strain)\n",
    "plt.xlabel(\"Time\")\n",
    "plt.ylabel(\"Strain\")"
   ]
  },
  {
   "cell_type": "markdown",
   "metadata": {},
   "source": [
    "Voila!\n",
    "\n",
    "Don't forget to close hdf5 file when you're done!"
   ]
  },
  {
   "cell_type": "code",
   "execution_count": 17,
   "metadata": {},
   "outputs": [],
   "source": [
    "h5.close()"
   ]
  }
 ],
 "metadata": {
  "kernelspec": {
   "display_name": "Python 3",
   "language": "python",
   "name": "python3"
  },
  "language_info": {
   "codemirror_mode": {
    "name": "ipython",
    "version": 3
   },
   "file_extension": ".py",
   "mimetype": "text/x-python",
   "name": "python",
   "nbconvert_exporter": "python",
   "pygments_lexer": "ipython3",
   "version": "3.7.2"
  }
 },
 "nbformat": 4,
 "nbformat_minor": 2
}
